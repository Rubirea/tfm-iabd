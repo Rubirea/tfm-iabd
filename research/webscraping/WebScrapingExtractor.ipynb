{
  "cells": [
    {
      "cell_type": "markdown",
      "metadata": {
        "id": "iHFfQXsNHYjT"
      },
      "source": [
        "# Imports"
      ]
    },
    {
      "cell_type": "code",
      "execution_count": null,
      "metadata": {
        "id": "GaJrjlrHg_9o"
      },
      "outputs": [],
      "source": [
        "import requests\n",
        "from bs4 import BeautifulSoup\n",
        "import pandas as pd\n",
        "from pandas.core.frame import DataFrame\n",
        "import time\n",
        "import numpy as np"
      ]
    },
    {
      "cell_type": "markdown",
      "metadata": {
        "id": "KnTgJjCzHWBS"
      },
      "source": [
        "# Extraction"
      ]
    },
    {
      "cell_type": "markdown",
      "metadata": {
        "id": "gqM1-73xLYz2"
      },
      "source": [
        "## Classes"
      ]
    },
    {
      "cell_type": "code",
      "execution_count": null,
      "metadata": {
        "id": "QjhujDzZhIW1"
      },
      "outputs": [],
      "source": [
        "class BoxOfficeMojo():\n",
        "  url_base =\"https://www.boxofficemojo.com\"\n",
        "  url = \"\"\n",
        "  frequency = \"year\"\n",
        "  since_year = 0\n",
        "  to_year = 0\n",
        "  actual_year = 0\n",
        "  query_order = \"?grossesOption=totalGrosses&releaseScale=wide\"\n",
        "\n",
        "  def __init__(self, since_year, to_year):\n",
        "    self.since_year = since_year\n",
        "    self.to_year = to_year\n",
        "    self.actual_year = since_year\n",
        "\n",
        "  def built_url(self):\n",
        "    self.url = self.url_base + \"/\" + self.frequency + \"/\" + str(self.actual_year) + \"/\" + self.query_order\n",
        "\n",
        "  def get_next_url(self):\n",
        "    if self.actual_year < self.to_year:\n",
        "      self.built_url()\n",
        "      self.actual_year = self.actual_year + 1\n",
        "    else:\n",
        "      self.url = \"\"\n",
        "\n",
        "    return self.url\n",
        "\n",
        "  def get_page_content(self):\n",
        "    url = self.get_next_url()\n",
        "    page = requests.get(url, headers={'User-Agent': 'Mozilla/5.0'})\n",
        "    content = BeautifulSoup(page.content)\n",
        "    tr_list = content.find_all(\"tr\")\n",
        "    #remove label cols\n",
        "    tr_list.pop(0)\n",
        "\n",
        "    movies_list = []\n",
        "    for tr in tr_list:\n",
        "      movie = []\n",
        "      for index, td in enumerate(tr):\n",
        "        text = td.get_text().strip()\n",
        "        if index == 1 or index == 5 or index == 6 or index == 7 or index == 10 or index == 12:\n",
        "          #if text != \"\" and text != \"true\" and text != \"false\":\n",
        "          if text == \"-\":\n",
        "            text = \"0\"\n",
        "          elif index != 2 and index != 11:\n",
        "            text = text.replace(',', '')\n",
        "            text = text.replace('$', '')\n",
        "          movie.append(text)\n",
        "\n",
        "      # Transform release date to full release date complete\n",
        "      movie[4] = self.transform_release_date(movie[4])\n",
        "      \n",
        "      # Don't append movies that have distributor Fathom Events \n",
        "      # or movies that we don't have their opening weekend gross\n",
        "      distributor = movie[5]\n",
        "      opening_weekend_gross = int(movie[3])\n",
        "      if distributor != \"Fathom Events\" and opening_weekend_gross > 0:\n",
        "        movies_list.append(movie)\n",
        "    \n",
        "    return movies_list\n",
        "  \n",
        "  def transform_release_date(self, release_date):\n",
        "    release_date = release_date.split(\" \")\n",
        "    month = release_date[0]\n",
        "    day = release_date[1]\n",
        "\n",
        "    if month == 'Jan':\n",
        "      month = '01'\n",
        "    elif month == 'Feb':\n",
        "      month = '02'\n",
        "    elif month == 'Mar':\n",
        "      month = '03'\n",
        "    elif month == 'Apr':\n",
        "      month = '04'\n",
        "    elif month == 'May':\n",
        "      month = '05'\n",
        "    elif month == 'Jun':\n",
        "      month = '06'\n",
        "    elif month == 'Jul':\n",
        "      month = '07'\n",
        "    elif month == 'Aug':\n",
        "      month = '08'\n",
        "    elif month == 'Sep':\n",
        "      month = '09'\n",
        "    elif month == 'Oct':\n",
        "      month = '10'\n",
        "    elif month == 'Nov':\n",
        "      month = '11'\n",
        "    elif month == 'Dec':\n",
        "      month = '12'\n",
        "\n",
        "    return str(self.actual_year-1)+\"/\"+str(month)+\"/\"+str(day)\n",
        "\n",
        "  def extract_data(self):\n",
        "    print(f'Box Mojo Office. Initializing process')\n",
        "    total_years = (self.to_year - self.since_year)\n",
        "    movies_list = []\n",
        "    while total_years > 0:\n",
        "      print(f'Box Mojo Office. Extracting data... Year:{self.actual_year}')      \n",
        "      movies = self.get_page_content()\n",
        "      movies_list.extend(movies)\n",
        "      total_years = total_years - 1\n",
        "\n",
        "    print(f'Box Mojo Office. Data extracted!') \n",
        "    return movies_list"
      ]
    },
    {
      "cell_type": "code",
      "execution_count": null,
      "metadata": {
        "id": "C87GqwqohJbr"
      },
      "outputs": [],
      "source": [
        "class Filmaffinity():\n",
        "  url =\"https://www.filmaffinity.com/en/search.php?stext=\"\n",
        "  cont:int=0\n",
        "\n",
        "  #Metodo para obtener la url que corresponde a la pelicula\n",
        "  def get_movie_url(self,movie_title):\n",
        "    movie_url=\"\"\n",
        "    url=self.url+movie_title\n",
        "    page = requests.get(url,headers={'User-Agent': 'Mozilla/5.0'})\n",
        "    content = BeautifulSoup(page.content)\n",
        "    try:\n",
        "      #Recorre la pagina y obtiene todos los resultados de una pelicula\n",
        "      movies_div_list=content.find_all(\"div\",{\"class\":\"mc-title\"})\n",
        "      if movies_div_list:\n",
        "        movies_url_list=[]\n",
        "        for div in movies_div_list:\n",
        "          movies_url_list.append(div.find(\"a\"))\n",
        "        #Comprobacion de que el titulo de la pelicula coincide exactamente\n",
        "        #con el titulo que le hemos proporcionado, recorriendo los resultados    \n",
        "        for movie in movies_url_list:\n",
        "          if movie[\"title\"].lower() == movie_title.lower()+\" \":\n",
        "            movie_url=movie[\"href\"]\n",
        "        #En caso de que no encuentre la pelicula, coje el primer resultado    \n",
        "        if movie_url==\"\":\n",
        "          movie_url=movies_url_list[0][\"href\"]\n",
        "      else:\n",
        "        #En caso de que solo exista un resultado entra directamente a la pagina\n",
        "        #por lo que se obtiene la url de la pelicula con la siguiente linea\n",
        "        movie_url=content.find_all(\"meta\", property=\"og:url\")[0][\"content\"]\n",
        "    except:\n",
        "      #Too many request(Pasa cuando haces demasiadas peticiones)\n",
        "      print(\"Too many request\")\n",
        "    self.cont=self.cont+1\n",
        "    #Hace 50 peticiones cada 5 minutos para que no salte el error de demasiadas peticiones  \n",
        "    if self.cont>=50:\n",
        "      time.sleep(300)\n",
        "      self.cont=0\n",
        "    return movie_url\n",
        "    \n",
        "  #Metodo para obtener la nota correspondiente a la pelicula\n",
        "  def extract_movie_score(self, content):\n",
        "    score=\"\"\n",
        "    try:\n",
        "      score=content.find(\"div\",{\"id\":\"movie-rat-avg\"})[\"content\"]\n",
        "    except:\n",
        "      score=\"\"\n",
        "    return score\n",
        "  #Metodo para obtener la duracion de la pelicula en minutos\n",
        "  def extract_movie_running_time(self, content):\n",
        "    running_time=\"\"\n",
        "    try:\n",
        "      running_time=content.find(\"dd\",{\"itemprop\":\"duration\"}).get_text().split(\" \")\n",
        "      running_time=running_time[0]\n",
        "    except:\n",
        "      running_time=\"\"\n",
        "    return running_time    \n",
        "\n",
        "  #Metodo para obtener los generos de la pelicula\n",
        "  def extract_movie_genres(self, content):\n",
        "    try:\n",
        "      genres=content.find(\"dd\",{\"class\":\"card-genres\"}).get_text().split(\"\\n\")\n",
        "      genres=genres[1].split(\"|\")\n",
        "      genres=genres[0].split(\"  \")\n",
        "      filtered_genres=[]\n",
        "      for genre in genres:\n",
        "        if genre !='':\n",
        "          genre=genre.strip()\n",
        "          genre=genre.replace(\".\",\"\")\n",
        "          filtered_genres.append(genre) \n",
        "    except:\n",
        "      filtered_genres=[]\n",
        "    # for index,genre in enumerate(filtered_genres):\n",
        "    #   if \"|\" in genre :\n",
        "    #     filtered_genres[index]=genre+filtered_genres[index+1]\n",
        "    #     filtered_genres.pop(index+1)\n",
        "    return str(filtered_genres)\n",
        "\n",
        "  #Metodo para construir el objeto pelicula, llamando a los metodos anteriores\n",
        "  def extract_data_film(self,movie_url,movie_title):\n",
        "    page = requests.get(movie_url, headers={'User-Agent': 'Mozilla/5.0'})\n",
        "    content = BeautifulSoup(page.content)\n",
        "    movie=[]\n",
        "    movie.append(self.extract_movie_score(content))      \n",
        "    movie.append(self.extract_movie_running_time(content))\n",
        "    movie.append(self.extract_movie_genres(content))\n",
        "    return movie\n",
        "  #Metodo para extraer toda la informacion de una lista de peliculas\n",
        "  def extract(self,movies_list):\n",
        "    movies_details = []\n",
        "    error=0\n",
        "    for movie in movies_list:\n",
        "      movie_title=movie[0]\n",
        "      print(f\"Filmaffinity. Trying to extract...{len(movies_details)}/{len(movies_list)}\")\n",
        "      try:\n",
        "        movie_url=self.get_movie_url(movie_title)\n",
        "        movie.extend(self.extract_data_film(movie_url,movie_title))\n",
        "      except:\n",
        "        print(f\"Filmaffinity. movie not found - {movie_title}\")\n",
        "        error=error+1\n",
        "      movies_details.append(movie)\n",
        "    print(f\"Filmaffinity. Total movies extracted: {len(movies_list)}\")\n",
        "    print(f\"Filmaffinity. Movies extracted sucessfully: {len(movies_list)-error}\")\n",
        "    print(f\"Filmaffinity. Movies that have not been extracted : {error}\")\n",
        "    return movies_details"
      ]
    },
    {
      "cell_type": "code",
      "execution_count": null,
      "metadata": {
        "id": "C-Oc4lbyx9AA"
      },
      "outputs": [],
      "source": [
        "class TheNumbers():\n",
        "  url =\"https://www.the-numbers.com/movie/budgets/all\"\n",
        "  \n",
        "  #Metodo para obtener el dataframe con el budget de todas las peliculas\n",
        "  def get_dataframe(self):\n",
        "    url=self.url\n",
        "    next_page=1\n",
        "    while next_page<6301:\n",
        "      page = requests.get(url,headers={'User-Agent': 'Mozilla/5.0'})\n",
        "      page.encoding=\"UTF-8\"\n",
        "      if next_page<2:\n",
        "        print(\"Extracting data...\")\n",
        "        data=pd.read_html(page.text,encoding=\"utf-8\")[0]\n",
        "      else:\n",
        "        data=data.append(pd.read_html(page.text,encoding=\"utf-8\")[0])\n",
        "      next_page=next_page+100\n",
        "      url=self.url+\"/\"+str(next_page)\n",
        "    return data\n",
        "    \n",
        "  #Metodo para añadir el budget a la pelicula\n",
        "  def extract(self,movies_list):\n",
        "    movies_details = []\n",
        "    budget=\"\"\n",
        "    df=self.get_dataframe()\n",
        "    error=0\n",
        "    for movie in movies_list:\n",
        "      movie_title=movie[0]\n",
        "      movie_data=df[df[\"Movie\"].str.lower()==movie_title.lower()]\n",
        "      if(len(movie_data)==0):\n",
        "        print(\"The-numbers. Movie not found - \",movie_title)\n",
        "        error=error+1\n",
        "        movie.append(budget)\n",
        "      else:\n",
        "        budget=movie_data.iloc[0][\"ProductionBudget\"]\n",
        "        budget=budget.replace(\"$\",\"\").replace(\",\",\"\")\n",
        "        movie.append(budget)\n",
        "        movies_details.append(movie)\n",
        "    print(f\"The-Numbers. Total movies extracted: {len(movies_list)}\")\n",
        "    print(f\"The-Numbers. Movies extracted sucessfully: {len(movies_list)-error}\")\n",
        "    print(f\"The-Numbers. Movies that have not been extracted : {error}\")\n",
        "    return movies_details"
      ]
    },
    {
      "cell_type": "code",
      "execution_count": null,
      "metadata": {
        "id": "JJTTA-eDneE7"
      },
      "outputs": [],
      "source": [
        "class DataExtractor():\n",
        "    # Properties\n",
        "    bom: BoxOfficeMojo = None\n",
        "    ff: Filmaffinity = None\n",
        "    tn: TheNumbers = None\n",
        "    bom_data_list: list = []\n",
        "    ff_data_list: list = []\n",
        "    tn_data_list: list = []\n",
        "    df: DataFrame = None\n",
        "    labels: list = ['movie title', 'gross total', 'max theaters', 'opening weekend gross', 'release date', 'distributor', 'score', 'running time min', 'genres', 'production budget']\n",
        "    path: str = './../../app/services/node-red/files/'\n",
        "\n",
        "    # Constructor to init extractor objects\n",
        "    def __init__(self, since_year, to_year):\n",
        "        self.bom = BoxOfficeMojo(since_year=since_year, to_year=to_year)\n",
        "        self.ff = Filmaffinity()\n",
        "        self.tn = TheNumbers()\n",
        "    \n",
        "    # Extract and save data from Box Office Mojo\n",
        "    # Required: None\n",
        "    # Return: list of films\n",
        "    def extract_bom_data(self) -> list:\n",
        "        self.bom_data_list = self.bom.extract_data()\n",
        "        return self.bom_data_list\n",
        "\n",
        "    # Extract and save data from Filmaffinity\n",
        "    # Required: movie list from BOM\n",
        "    # Return: list of films with added cols from FF\n",
        "    def extract_ff_data(self, movies_list) -> list:\n",
        "        self.ff_data_list = self.ff.extract(movies_list)\n",
        "        return self.ff_data_list\n",
        "\n",
        "    # Extract and save data from The Numebr\n",
        "    # Required: movie list from BOM or FF\n",
        "    # Return: list of films with added budget from TN\n",
        "    def extract_tn_data(self, movies_list) -> list:\n",
        "        self.tn_data_list = self.tn.extract(movies_list)\n",
        "        return self.tn_data_list\n",
        "\n",
        "    # Call extractor methods in order, providing required data to extract and save from all data sources\n",
        "    # Required: None\n",
        "    # Return: None\n",
        "    def orchestrated_extaction(self):\n",
        "        self.extract_bom_data()\n",
        "        self.extract_ff_data(self.bom_data_list)\n",
        "        self.extract_tn_data(self.ff_data_list)\n",
        "        return self.to_df(self.ff_data_list, self.labels)\n",
        "\n",
        "    # Transform movies list to a DataFrame\n",
        "    # Required: None\n",
        "    # Return: DataFrame with films with especific cols.\n",
        "    def to_df(self, movies_list, labels) -> DataFrame:\n",
        "        self.df = pd.DataFrame(movies_list, columns = labels)\n",
        "        return self.df\n",
        "\n",
        "    # Export movies list to a CSV file\n",
        "    # Required: DataFrame from obj setted\n",
        "    # Return: None\n",
        "    def export_to_csv_file(self, df):\n",
        "        print(f'Exporting data... ')\n",
        "        file_name =  self.path + 'movies_list_' + str(self.bom.since_year) + '-' + str(self.bom.to_year) + '.csv'\n",
        "        df.to_csv(self.path + file_name, index = 0, columns = df.columns.values.tolist())\n",
        "        print(f'Data exported at {file_name} \\nProcess finalized!') "
      ]
    },
    {
      "cell_type": "markdown",
      "metadata": {
        "id": "xxrwgJgtLbyu"
      },
      "source": [
        "## Extraction"
      ]
    },
    {
      "cell_type": "code",
      "execution_count": null,
      "metadata": {
        "id": "XZ2GQhIStnqX"
      },
      "outputs": [],
      "source": [
        "ex = DataExtractor(2012,2020)"
      ]
    },
    {
      "cell_type": "code",
      "execution_count": null,
      "metadata": {
        "id": "7MUOTvuG1E6b"
      },
      "outputs": [],
      "source": [
        "df = ex.orchestrated_extaction()"
      ]
    },
    {
      "cell_type": "markdown",
      "metadata": {
        "id": "uS5WV5VrHg1q"
      },
      "source": [
        "# Cleaning"
      ]
    },
    {
      "cell_type": "code",
      "execution_count": null,
      "metadata": {
        "id": "mWFQ0zhkt77E"
      },
      "outputs": [],
      "source": [
        "df = df.replace('', np.nan)\n",
        "df = df.dropna()"
      ]
    },
    {
      "cell_type": "code",
      "execution_count": null,
      "metadata": {
        "colab": {
          "base_uri": "https://localhost:8080/"
        },
        "id": "0UfQLuKoxB9i",
        "outputId": "22c4044a-1f98-4506-8313-9cd939083623"
      },
      "outputs": [
        {
          "name": "stdout",
          "output_type": "stream",
          "text": [
            "<class 'pandas.core.frame.DataFrame'>\n",
            "Int64Index: 2 entries, 0 to 1\n",
            "Data columns (total 10 columns):\n",
            " #   Column                 Non-Null Count  Dtype \n",
            "---  ------                 --------------  ----- \n",
            " 0   movie title            2 non-null      object\n",
            " 1   gross total            2 non-null      object\n",
            " 2   max theaters           2 non-null      object\n",
            " 3   opening weekend gross  2 non-null      object\n",
            " 4   release date           2 non-null      object\n",
            " 5   distributor            2 non-null      object\n",
            " 6   score                  2 non-null      object\n",
            " 7   running time min       2 non-null      object\n",
            " 8   genres                 2 non-null      object\n",
            " 9   production budget      2 non-null      object\n",
            "dtypes: object(10)\n",
            "memory usage: 176.0+ bytes\n"
          ]
        }
      ],
      "source": [
        "df.info()"
      ]
    },
    {
      "cell_type": "markdown",
      "metadata": {
        "id": "gmd_6Sf5H1XK"
      },
      "source": [
        "## Cleaning unused cols"
      ]
    },
    {
      "cell_type": "code",
      "execution_count": null,
      "metadata": {
        "colab": {
          "base_uri": "https://localhost:8080/"
        },
        "id": "oNfXyQ5TylT4",
        "outputId": "2992ba4d-5e9f-4a54-d14e-05f23fb393d4"
      },
      "outputs": [
        {
          "data": {
            "text/plain": [
              "pepito     1\n",
              "pepito2    1\n",
              "Name: distributor, dtype: int64"
            ]
          },
          "execution_count": 290,
          "metadata": {},
          "output_type": "execute_result"
        }
      ],
      "source": [
        "df[\"distributor\"].value_counts()"
      ]
    },
    {
      "cell_type": "code",
      "execution_count": null,
      "metadata": {
        "colab": {
          "base_uri": "https://localhost:8080/"
        },
        "id": "g2Rdakpd8iVa",
        "outputId": "53d2eb02-640f-4654-d708-589da991750d"
      },
      "outputs": [
        {
          "data": {
            "text/plain": [
              "count          2\n",
              "unique         2\n",
              "top       pepito\n",
              "freq           1\n",
              "Name: distributor, dtype: object"
            ]
          },
          "execution_count": 291,
          "metadata": {},
          "output_type": "execute_result"
        }
      ],
      "source": [
        "df[\"distributor\"].describe()"
      ]
    },
    {
      "cell_type": "code",
      "execution_count": null,
      "metadata": {
        "id": "1JSoUdJP8fNy"
      },
      "outputs": [],
      "source": [
        "df=df.drop([\"distributor\"],axis=1)"
      ]
    },
    {
      "cell_type": "markdown",
      "metadata": {
        "id": "2oa7TlUf9Omx"
      },
      "source": [
        "## Getting dummies"
      ]
    },
    {
      "cell_type": "code",
      "execution_count": null,
      "metadata": {
        "id": "eeB405s4SiTT"
      },
      "outputs": [],
      "source": [
        "# Use this line IF the values in Column A are type of `string` instead of lists.\n",
        "df['genres'] = df['genres'].str.strip('[]').str.split('\\s*,\\s*')\n",
        "\n",
        "data = (\n",
        "    df['genres'].explode()\n",
        "    .str.get_dummies().groupby(level=0).sum().add_prefix('genre_')\n",
        ")\n",
        "\n",
        "df = df.drop(columns=[\"genres\"]).join(data)"
      ]
    },
    {
      "cell_type": "markdown",
      "metadata": {
        "id": "pw3p4HzOXFV-"
      },
      "source": [
        "## Renaming columns\n"
      ]
    },
    {
      "cell_type": "code",
      "execution_count": null,
      "metadata": {
        "id": "5DoraQEAUTBA"
      },
      "outputs": [],
      "source": [
        "df.columns = df.columns.str.lower().str.replace(\"'\", \"\").str.replace(\" \",\"_\")"
      ]
    },
    {
      "cell_type": "markdown",
      "metadata": {
        "id": "6lCJM9rZIAEZ"
      },
      "source": [
        "## Setting types"
      ]
    },
    {
      "cell_type": "code",
      "execution_count": null,
      "metadata": {
        "id": "lM-MpVsuHBJi"
      },
      "outputs": [],
      "source": [
        "df[\"movie_title\"] =df[\"movie_title\"].astype(str)\n",
        "df[\"running_time_min\"] =df[\"running_time_min\"].astype(int)\n",
        "df[\"gross_total\"] =df[\"gross_total\"].astype(int)\n",
        "df[\"max_theaters\"] =df[\"max_theaters\"].astype(int)\n",
        "df[\"opening_weekend_gross\"] =df[\"opening_weekend_gross\"].astype(int)\n",
        "df[\"score\"] =df[\"score\"].astype(float)\n",
        "df[\"production_budget\"] =df[\"production_budget\"].astype(int)"
      ]
    },
    {
      "cell_type": "code",
      "execution_count": null,
      "metadata": {
        "colab": {
          "base_uri": "https://localhost:8080/"
        },
        "id": "EszwBN6myJzH",
        "outputId": "3aa0be1b-4b6c-49f6-a0f9-8a6ebbccf33a"
      },
      "outputs": [
        {
          "name": "stdout",
          "output_type": "stream",
          "text": [
            "<class 'pandas.core.frame.DataFrame'>\n",
            "Int64Index: 2 entries, 0 to 1\n",
            "Data columns (total 13 columns):\n",
            " #   Column                 Non-Null Count  Dtype  \n",
            "---  ------                 --------------  -----  \n",
            " 0   movie_title            2 non-null      object \n",
            " 1   gross_total            2 non-null      int64  \n",
            " 2   max_theaters           2 non-null      int64  \n",
            " 3   opening_weekend_gross  2 non-null      int64  \n",
            " 4   release_date           2 non-null      object \n",
            " 5   score                  2 non-null      float64\n",
            " 6   running_time_min       2 non-null      int64  \n",
            " 7   production_budget      2 non-null      int64  \n",
            " 8   genre_action           2 non-null      int64  \n",
            " 9   genre_comedy           2 non-null      int64  \n",
            " 10  genre_drama            2 non-null      int64  \n",
            " 11  genre_sci-fi           2 non-null      int64  \n",
            " 12  genre_tv_series        2 non-null      int64  \n",
            "dtypes: float64(1), int64(10), object(2)\n",
            "memory usage: 332.0+ bytes\n"
          ]
        }
      ],
      "source": [
        "df.info()"
      ]
    },
    {
      "cell_type": "markdown",
      "metadata": {
        "id": "gd2IRM9oIHUp"
      },
      "source": [
        "# Exporting to csv"
      ]
    },
    {
      "cell_type": "code",
      "execution_count": null,
      "metadata": {
        "colab": {
          "base_uri": "https://localhost:8080/",
          "height": 211
        },
        "id": "YgV1AFO0E86c",
        "outputId": "4f2ad697-ecbf-42d1-e489-8a902628f1d9"
      },
      "outputs": [
        {
          "data": {
            "text/html": [
              "\n",
              "  <div id=\"df-49bed6f6-1da9-4ee3-98b9-cb72cd16ae4f\">\n",
              "    <div class=\"colab-df-container\">\n",
              "      <div>\n",
              "<style scoped>\n",
              "    .dataframe tbody tr th:only-of-type {\n",
              "        vertical-align: middle;\n",
              "    }\n",
              "\n",
              "    .dataframe tbody tr th {\n",
              "        vertical-align: top;\n",
              "    }\n",
              "\n",
              "    .dataframe thead th {\n",
              "        text-align: right;\n",
              "    }\n",
              "</style>\n",
              "<table border=\"1\" class=\"dataframe\">\n",
              "  <thead>\n",
              "    <tr style=\"text-align: right;\">\n",
              "      <th></th>\n",
              "      <th>movie_title</th>\n",
              "      <th>gross_total</th>\n",
              "      <th>max_theaters</th>\n",
              "      <th>opening_weekend_gross</th>\n",
              "      <th>release_date</th>\n",
              "      <th>score</th>\n",
              "      <th>running_time_min</th>\n",
              "      <th>production_budget</th>\n",
              "      <th>genre_action</th>\n",
              "      <th>genre_comedy</th>\n",
              "      <th>genre_drama</th>\n",
              "      <th>genre_sci-fi</th>\n",
              "      <th>genre_tv_series</th>\n",
              "    </tr>\n",
              "  </thead>\n",
              "  <tbody>\n",
              "    <tr>\n",
              "      <th>0</th>\n",
              "      <td>The Avengers</td>\n",
              "      <td>2</td>\n",
              "      <td>3</td>\n",
              "      <td>4</td>\n",
              "      <td>2012/04/13</td>\n",
              "      <td>3.0</td>\n",
              "      <td>89</td>\n",
              "      <td>225000000</td>\n",
              "      <td>1</td>\n",
              "      <td>0</td>\n",
              "      <td>0</td>\n",
              "      <td>1</td>\n",
              "      <td>0</td>\n",
              "    </tr>\n",
              "    <tr>\n",
              "      <th>1</th>\n",
              "      <td>Wonder</td>\n",
              "      <td>2</td>\n",
              "      <td>3</td>\n",
              "      <td>4</td>\n",
              "      <td>2012/04/13</td>\n",
              "      <td>7.0</td>\n",
              "      <td>30</td>\n",
              "      <td>20000000</td>\n",
              "      <td>0</td>\n",
              "      <td>1</td>\n",
              "      <td>1</td>\n",
              "      <td>0</td>\n",
              "      <td>1</td>\n",
              "    </tr>\n",
              "  </tbody>\n",
              "</table>\n",
              "</div>\n",
              "      <button class=\"colab-df-convert\" onclick=\"convertToInteractive('df-49bed6f6-1da9-4ee3-98b9-cb72cd16ae4f')\"\n",
              "              title=\"Convert this dataframe to an interactive table.\"\n",
              "              style=\"display:none;\">\n",
              "        \n",
              "  <svg xmlns=\"http://www.w3.org/2000/svg\" height=\"24px\"viewBox=\"0 0 24 24\"\n",
              "       width=\"24px\">\n",
              "    <path d=\"M0 0h24v24H0V0z\" fill=\"none\"/>\n",
              "    <path d=\"M18.56 5.44l.94 2.06.94-2.06 2.06-.94-2.06-.94-.94-2.06-.94 2.06-2.06.94zm-11 1L8.5 8.5l.94-2.06 2.06-.94-2.06-.94L8.5 2.5l-.94 2.06-2.06.94zm10 10l.94 2.06.94-2.06 2.06-.94-2.06-.94-.94-2.06-.94 2.06-2.06.94z\"/><path d=\"M17.41 7.96l-1.37-1.37c-.4-.4-.92-.59-1.43-.59-.52 0-1.04.2-1.43.59L10.3 9.45l-7.72 7.72c-.78.78-.78 2.05 0 2.83L4 21.41c.39.39.9.59 1.41.59.51 0 1.02-.2 1.41-.59l7.78-7.78 2.81-2.81c.8-.78.8-2.07 0-2.86zM5.41 20L4 18.59l7.72-7.72 1.47 1.35L5.41 20z\"/>\n",
              "  </svg>\n",
              "      </button>\n",
              "      \n",
              "  <style>\n",
              "    .colab-df-container {\n",
              "      display:flex;\n",
              "      flex-wrap:wrap;\n",
              "      gap: 12px;\n",
              "    }\n",
              "\n",
              "    .colab-df-convert {\n",
              "      background-color: #E8F0FE;\n",
              "      border: none;\n",
              "      border-radius: 50%;\n",
              "      cursor: pointer;\n",
              "      display: none;\n",
              "      fill: #1967D2;\n",
              "      height: 32px;\n",
              "      padding: 0 0 0 0;\n",
              "      width: 32px;\n",
              "    }\n",
              "\n",
              "    .colab-df-convert:hover {\n",
              "      background-color: #E2EBFA;\n",
              "      box-shadow: 0px 1px 2px rgba(60, 64, 67, 0.3), 0px 1px 3px 1px rgba(60, 64, 67, 0.15);\n",
              "      fill: #174EA6;\n",
              "    }\n",
              "\n",
              "    [theme=dark] .colab-df-convert {\n",
              "      background-color: #3B4455;\n",
              "      fill: #D2E3FC;\n",
              "    }\n",
              "\n",
              "    [theme=dark] .colab-df-convert:hover {\n",
              "      background-color: #434B5C;\n",
              "      box-shadow: 0px 1px 3px 1px rgba(0, 0, 0, 0.15);\n",
              "      filter: drop-shadow(0px 1px 2px rgba(0, 0, 0, 0.3));\n",
              "      fill: #FFFFFF;\n",
              "    }\n",
              "  </style>\n",
              "\n",
              "      <script>\n",
              "        const buttonEl =\n",
              "          document.querySelector('#df-49bed6f6-1da9-4ee3-98b9-cb72cd16ae4f button.colab-df-convert');\n",
              "        buttonEl.style.display =\n",
              "          google.colab.kernel.accessAllowed ? 'block' : 'none';\n",
              "\n",
              "        async function convertToInteractive(key) {\n",
              "          const element = document.querySelector('#df-49bed6f6-1da9-4ee3-98b9-cb72cd16ae4f');\n",
              "          const dataTable =\n",
              "            await google.colab.kernel.invokeFunction('convertToInteractive',\n",
              "                                                     [key], {});\n",
              "          if (!dataTable) return;\n",
              "\n",
              "          const docLinkHtml = 'Like what you see? Visit the ' +\n",
              "            '<a target=\"_blank\" href=https://colab.research.google.com/notebooks/data_table.ipynb>data table notebook</a>'\n",
              "            + ' to learn more about interactive tables.';\n",
              "          element.innerHTML = '';\n",
              "          dataTable['output_type'] = 'display_data';\n",
              "          await google.colab.output.renderOutput(dataTable, element);\n",
              "          const docLink = document.createElement('div');\n",
              "          docLink.innerHTML = docLinkHtml;\n",
              "          element.appendChild(docLink);\n",
              "        }\n",
              "      </script>\n",
              "    </div>\n",
              "  </div>\n",
              "  "
            ],
            "text/plain": [
              "    movie_title  gross_total  max_theaters  opening_weekend_gross  \\\n",
              "0  The Avengers            2             3                      4   \n",
              "1        Wonder            2             3                      4   \n",
              "\n",
              "  release_date  score  running_time_min  production_budget  genre_action  \\\n",
              "0   2012/04/13    3.0                89          225000000             1   \n",
              "1   2012/04/13    7.0                30           20000000             0   \n",
              "\n",
              "   genre_comedy  genre_drama  genre_sci-fi  genre_tv_series  \n",
              "0             0            0             1                0  \n",
              "1             1            1             0                1  "
            ]
          },
          "execution_count": 301,
          "metadata": {},
          "output_type": "execute_result"
        }
      ],
      "source": [
        "df"
      ]
    },
    {
      "cell_type": "code",
      "execution_count": null,
      "metadata": {
        "colab": {
          "base_uri": "https://localhost:8080/"
        },
        "id": "9yyBQdf2G7z7",
        "outputId": "ec19c3b4-8695-45cd-8f70-b4fd691f955a"
      },
      "outputs": [
        {
          "name": "stdout",
          "output_type": "stream",
          "text": [
            "Exporting data... \n",
            "Data exported at movies_list_2019-2020.csv \n",
            "Process finalized!\n"
          ]
        }
      ],
      "source": [
        "ex.export_to_csv_file(df)"
      ]
    }
  ],
  "metadata": {
    "colab": {
      "collapsed_sections": [],
      "name": "WebScrapingExtractor.ipynb",
      "provenance": []
    },
    "interpreter": {
      "hash": "ca26ec7a77146c2c88df81454c401996d74ebabc1cb1ca8cc1ec35828f4c7c9e"
    },
    "kernelspec": {
      "display_name": "Python 3.8.12 ('cursoPhyton')",
      "language": "python",
      "name": "python3"
    },
    "language_info": {
      "codemirror_mode": {
        "name": "ipython",
        "version": 3
      },
      "file_extension": ".py",
      "mimetype": "text/x-python",
      "name": "python",
      "nbconvert_exporter": "python",
      "pygments_lexer": "ipython3",
      "version": "3.8.12"
    }
  },
  "nbformat": 4,
  "nbformat_minor": 0
}
