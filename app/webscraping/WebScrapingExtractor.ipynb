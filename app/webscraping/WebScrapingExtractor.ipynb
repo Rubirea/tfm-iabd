{
  "cells": [
    {
      "cell_type": "markdown",
      "metadata": {
        "id": "iHFfQXsNHYjT"
      },
      "source": [
        "# Imports"
      ]
    },
    {
      "cell_type": "code",
      "execution_count": 9,
      "metadata": {
        "id": "GaJrjlrHg_9o"
      },
      "outputs": [],
      "source": [
        "import requests\n",
        "from bs4 import BeautifulSoup\n",
        "import pandas as pd\n",
        "from pandas.core.frame import DataFrame\n",
        "import time\n",
        "import json"
      ]
    },
    {
      "cell_type": "markdown",
      "metadata": {
        "id": "KnTgJjCzHWBS"
      },
      "source": [
        "# Extraction"
      ]
    },
    {
      "cell_type": "markdown",
      "metadata": {},
      "source": [
        "## Classes"
      ]
    },
    {
      "cell_type": "code",
      "execution_count": 10,
      "metadata": {
        "id": "QjhujDzZhIW1"
      },
      "outputs": [],
      "source": [
        "class BoxOfficeMojo():\n",
        "  url_base =\"https://www.boxofficemojo.com\"\n",
        "  url = \"\"\n",
        "  frequency = \"year\"\n",
        "  since_year = 0\n",
        "  to_year = 0\n",
        "  actual_year = 0\n",
        "  query_order = \"?grossesOption=totalGrosses&releaseScale=wide\"\n",
        "\n",
        "  def __init__(self, since_year, to_year):\n",
        "    self.since_year = since_year\n",
        "    self.to_year = to_year\n",
        "    self.actual_year = since_year\n",
        "\n",
        "  def built_url(self):\n",
        "    self.url = self.url_base + \"/\" + self.frequency + \"/\" + str(self.actual_year) + \"/\" + self.query_order\n",
        "\n",
        "  def get_next_url(self):\n",
        "    if self.actual_year < self.to_year:\n",
        "      self.built_url()\n",
        "      self.actual_year = self.actual_year + 1\n",
        "    else:\n",
        "      self.url = \"\"\n",
        "\n",
        "    return self.url\n",
        "\n",
        "  def get_page_content(self):\n",
        "    url = self.get_next_url()\n",
        "    page = requests.get(url, headers={'User-Agent': 'Mozilla/5.0'})\n",
        "    content = BeautifulSoup(page.content)\n",
        "    tr_list = content.find_all(\"tr\")\n",
        "    #remove label cols\n",
        "    tr_list.pop(0)\n",
        "\n",
        "    movies_list = []\n",
        "    for tr in tr_list:\n",
        "      movie = []\n",
        "      for index, td in enumerate(tr):\n",
        "        text = td.get_text().strip()\n",
        "        if index == 1 or index == 5 or index == 6 or index == 7 or index == 10 or index == 12:\n",
        "          #if text != \"\" and text != \"true\" and text != \"false\":\n",
        "          if text == \"-\":\n",
        "            text = \"0\"\n",
        "          elif index != 2 and index != 11:\n",
        "            text = text.replace(',', '')\n",
        "            text = text.replace('$', '')\n",
        "          movie.append(text)\n",
        "\n",
        "      # Transform release date to full release date complete\n",
        "      movie[4] = self.transform_release_date(movie[4])\n",
        "      \n",
        "      # Don't append movies that have distributor Fathom Events \n",
        "      # or movies that we don't have their opening weekend gross\n",
        "      distributor = movie[5]\n",
        "      opening_weekend_gross = int(movie[3])\n",
        "      if distributor != \"Fathom Events\" and opening_weekend_gross > 0:\n",
        "        movies_list.append(movie)\n",
        "    \n",
        "    return movies_list\n",
        "  \n",
        "  def transform_release_date(self, release_date):\n",
        "    release_date = release_date.split(\" \")\n",
        "    month = release_date[0]\n",
        "    day = release_date[1]\n",
        "\n",
        "    if month == 'Jan':\n",
        "      month = '01'\n",
        "    elif month == 'Feb':\n",
        "      month = '02'\n",
        "    elif month == 'Mar':\n",
        "      month = '03'\n",
        "    elif month == 'Apr':\n",
        "      month = '04'\n",
        "    elif month == 'May':\n",
        "      month = '05'\n",
        "    elif month == 'Jun':\n",
        "      month = '06'\n",
        "    elif month == 'Jul':\n",
        "      month = '07'\n",
        "    elif month == 'Aug':\n",
        "      month = '08'\n",
        "    elif month == 'Sep':\n",
        "      month = '09'\n",
        "    elif month == 'Oct':\n",
        "      month = '10'\n",
        "    elif month == 'Nov':\n",
        "      month = '11'\n",
        "    elif month == 'Dec':\n",
        "      month = '12'\n",
        "\n",
        "    return str(self.actual_year-1)+\"/\"+str(month)+\"/\"+str(day)\n",
        "\n",
        "  def extract_data(self):\n",
        "    print(f'Box Mojo Office. Initializing process')\n",
        "    total_years = (self.to_year - self.since_year)\n",
        "    movies_list = []\n",
        "    while total_years > 0:\n",
        "      print(f'Box Mojo Office. Extracting data... Year:{self.actual_year}')      \n",
        "      movies = self.get_page_content()\n",
        "      movies_list.extend(movies)\n",
        "      total_years = total_years - 1\n",
        "\n",
        "    print(f'Box Mojo Office. Data extracted!') \n",
        "    return movies_list"
      ]
    },
    {
      "cell_type": "code",
      "execution_count": 11,
      "metadata": {
        "id": "C87GqwqohJbr"
      },
      "outputs": [],
      "source": [
        "class Filmaffinity():\n",
        "  url =\"https://www.filmaffinity.com/en/search.php?stext=\"\n",
        "  cont:int=0\n",
        "\n",
        "  #Metodo para obtener la url que corresponde a la pelicula\n",
        "  def get_movie_url(self,movie_title):\n",
        "    movie_url=\"\"\n",
        "    url=self.url+movie_title\n",
        "    page = requests.get(url,headers={'User-Agent': 'Mozilla/5.0'})\n",
        "    content = BeautifulSoup(page.content)\n",
        "    try:\n",
        "      #Recorre la pagina y obtiene todos los resultados de una pelicula\n",
        "      movies_div_list=content.find_all(\"div\",{\"class\":\"mc-title\"})\n",
        "      if movies_div_list:\n",
        "        movies_url_list=[]\n",
        "        for div in movies_div_list:\n",
        "          movies_url_list.append(div.find(\"a\"))\n",
        "        #Comprobacion de que el titulo de la pelicula coincide exactamente\n",
        "        #con el titulo que le hemos proporcionado, recorriendo los resultados    \n",
        "        for movie in movies_url_list:\n",
        "          if movie[\"title\"].lower() == movie_title.lower()+\" \":\n",
        "            movie_url=movie[\"href\"]\n",
        "        #En caso de que no encuentre la pelicula, coje el primer resultado    \n",
        "        if movie_url==\"\":\n",
        "          movie_url=movies_url_list[0][\"href\"]\n",
        "      else:\n",
        "        #En caso de que solo exista un resultado entra directamente a la pagina\n",
        "        #por lo que se obtiene la url de la pelicula con la siguiente linea\n",
        "        movie_url=content.find_all(\"meta\", property=\"og:url\")[0][\"content\"]\n",
        "    except:\n",
        "      #Too many request(Pasa cuando haces demasiadas peticiones)\n",
        "      print(\"Too many request\")\n",
        "    self.cont=self.cont+1\n",
        "    #Hace 50 peticiones cada 5 minutos para que no salte el error de demasiadas peticiones  \n",
        "    if self.cont>=50:\n",
        "      time.sleep(300)\n",
        "      self.cont=0\n",
        "    return movie_url\n",
        "    \n",
        "  #Metodo para obtener la nota correspondiente a la pelicula\n",
        "  def extract_movie_score(self, content):\n",
        "    score=\"\"\n",
        "    try:\n",
        "      score=content.find(\"div\",{\"id\":\"movie-rat-avg\"})[\"content\"]\n",
        "    except:\n",
        "      score=\"\"\n",
        "    return score\n",
        "  #Metodo para obtener la duracion de la pelicula en minutos\n",
        "  def extract_movie_running_time(self, content):\n",
        "    running_time=\"\"\n",
        "    try:\n",
        "      running_time=content.find(\"dd\",{\"itemprop\":\"duration\"}).get_text().split(\" \")\n",
        "      running_time=running_time[0]\n",
        "    except:\n",
        "      running_time=\"\"\n",
        "    return running_time    \n",
        "\n",
        "  #Metodo para obtener los generos de la pelicula\n",
        "  def extract_movie_genres(self, content):\n",
        "    try:\n",
        "      genres=content.find(\"dd\",{\"class\":\"card-genres\"}).get_text().split(\"\\n\")\n",
        "      genres=genres[1].split(\"|\")\n",
        "      genres=genres[0].split(\"  \")\n",
        "      filtered_genres=[]\n",
        "      for genre in genres:\n",
        "        if genre !='':\n",
        "          genre=genre.strip()\n",
        "          genre=genre.replace(\".\",\"\")\n",
        "          filtered_genres.append(genre) \n",
        "    except:\n",
        "      filtered_genres=[]\n",
        "    # for index,genre in enumerate(filtered_genres):\n",
        "    #   if \"|\" in genre :\n",
        "    #     filtered_genres[index]=genre+filtered_genres[index+1]\n",
        "    #     filtered_genres.pop(index+1)\n",
        "    return filtered_genres\n",
        "\n",
        "  #Metodo para construir el objeto pelicula, llamando a los metodos anteriores\n",
        "  def extract_data_film(self,movie_url,movie_title):\n",
        "    page = requests.get(movie_url, headers={'User-Agent': 'Mozilla/5.0'})\n",
        "    content = BeautifulSoup(page.content)\n",
        "    movie=[]\n",
        "    movie.append(self.extract_movie_score(content))      \n",
        "    movie.append(self.extract_movie_running_time(content))\n",
        "    movie.append(self.extract_movie_genres(content))\n",
        "    return movie\n",
        "  #Metodo para extraer toda la informacion de una lista de peliculas\n",
        "  def extract(self,movies_list):\n",
        "    movies_details = []\n",
        "    error=0\n",
        "    for movie in movies_list:\n",
        "      movie_title=movie[0]\n",
        "      print(f\"Filmaffinity. Trying to extract...{len(movies_details)}/{len(movies_list)}\")\n",
        "      try:\n",
        "        movie_url=self.get_movie_url(movie_title)\n",
        "        movie.extend(self.extract_data_film(movie_url,movie_title))\n",
        "      except:\n",
        "        print(f\"Filmaffinity. movie not found - {movie_title}\")\n",
        "        error=error+1\n",
        "      movies_details.append(movie)\n",
        "    print(f\"Filmaffinity. Total movies extracted: {len(movies_list)}\")\n",
        "    print(f\"Filmaffinity. Movies extracted sucessfully: {len(movies_list)-error}\")\n",
        "    print(f\"Filmaffinity. Movies that have not been extracted : {error}\")\n",
        "    return movies_details"
      ]
    },
    {
      "cell_type": "code",
      "execution_count": 12,
      "metadata": {
        "id": "C-Oc4lbyx9AA"
      },
      "outputs": [],
      "source": [
        "class TheNumbers():\n",
        "  url =\"https://www.the-numbers.com/movie/budgets/all\"\n",
        "  \n",
        "  #Metodo para obtener el dataframe con el budget de todas las peliculas\n",
        "  def get_dataframe(self):\n",
        "    url=self.url\n",
        "    next_page=1\n",
        "    while next_page<6301:\n",
        "      page = requests.get(url,headers={'User-Agent': 'Mozilla/5.0'})\n",
        "      page.encoding=\"UTF-8\"\n",
        "      if next_page<2:\n",
        "        print(\"Extracting data...\")\n",
        "        data=pd.read_html(page.text,encoding=\"utf-8\")[0]\n",
        "      else:\n",
        "        data=data.append(pd.read_html(page.text,encoding=\"utf-8\")[0])\n",
        "      next_page=next_page+100\n",
        "      url=self.url+\"/\"+str(next_page)\n",
        "    return data\n",
        "    \n",
        "  #Metodo para añadir el budget a la pelicula\n",
        "  def extract(self,movies_list):\n",
        "    movies_details = []\n",
        "    budget=\"\"\n",
        "    df=self.get_dataframe()\n",
        "    error=0\n",
        "    for movie in movies_list:\n",
        "      movie_title=movie[0]\n",
        "      movie_data=df[df[\"Movie\"].str.lower()==movie_title.lower()]\n",
        "      if(len(movie_data)==0):\n",
        "        print(\"The-numbers. Movie not found - \",movie_title)\n",
        "        error=error+1\n",
        "        movie.append(budget)\n",
        "      else:\n",
        "        budget=movie_data.iloc[0][\"ProductionBudget\"]\n",
        "        budget=budget.replace(\"$\",\"\").replace(\",\",\"\")\n",
        "        movie.append(budget)\n",
        "        movies_details.append(movie)\n",
        "    print(f\"The-Numbers. Total movies extracted: {len(movies_list)}\")\n",
        "    print(f\"The-Numbers. Movies extracted sucessfully: {len(movies_list)-error}\")\n",
        "    print(f\"The-Numbers. Movies that have not been extracted : {error}\")\n",
        "    return movies_details"
      ]
    },
    {
      "cell_type": "code",
      "execution_count": 27,
      "metadata": {
        "id": "JJTTA-eDneE7"
      },
      "outputs": [],
      "source": [
        "class DataExtractor():\n",
        "    # Properties\n",
        "    bom: BoxOfficeMojo = None\n",
        "    ff: Filmaffinity = None\n",
        "    tn: TheNumbers = None\n",
        "    bom_data_list: list = []\n",
        "    ff_data_list: list = []\n",
        "    tn_data_list: list = []\n",
        "    df: DataFrame = None\n",
        "    labels: list = ['Movie title', 'Gross total', 'Max. theaters', 'Opening weekend gross', 'Release date', 'Distributor', 'Score', 'Running time[min]', 'Genres', 'Production Budget']\n",
        "    path: str = './../services/node-red/files/'\n",
        "\n",
        "    # Constructor to init extractor objects\n",
        "    def __init__(self, since_year, to_year):\n",
        "        self.bom = BoxOfficeMojo(since_year=since_year, to_year=to_year)\n",
        "        self.ff = Filmaffinity()\n",
        "        self.tn = TheNumbers()\n",
        "    \n",
        "    # Extract and save data from Box Office Mojo\n",
        "    # Required: None\n",
        "    # Return: list of films\n",
        "    def extract_bom_data(self) -> list:\n",
        "        self.bom_data_list = self.bom.extract_data()\n",
        "        return self.bom_data_list\n",
        "\n",
        "    # Extract and save data from Filmaffinity\n",
        "    # Required: movie list from BOM\n",
        "    # Return: list of films with added cols from FF\n",
        "    def extract_ff_data(self, movies_list) -> list:\n",
        "        self.ff_data_list = self.ff.extract(movies_list)\n",
        "        return self.ff_data_list\n",
        "\n",
        "    # Extract and save data from The Numebr\n",
        "    # Required: movie list from BOM or FF\n",
        "    # Return: list of films with added budget from TN\n",
        "    def extract_tn_data(self, movies_list) -> list:\n",
        "        self.tn_data_list = self.tn.extract(movies_list)\n",
        "        return self.tn_data_list\n",
        "\n",
        "    # Call extractor methods in order, providing required data to extract and save from all data sources\n",
        "    # Required: None\n",
        "    # Return: None\n",
        "    def orchestrated_extaction(self):\n",
        "        self.extract_bom_data()\n",
        "        self.extract_ff_data(self.bom_data_list)\n",
        "        self.extract_tn_data(self.ff_data_list)\n",
        "        return self.to_df(self.ff_data_list, self.labels)\n",
        "\n",
        "    # Transform movies list to a DataFrame\n",
        "    # Required: None\n",
        "    # Return: DataFrame with films with especific cols.\n",
        "    def to_df(self, movies_list, labels) -> DataFrame:\n",
        "        self.df = pd.DataFrame(movies_list, columns = labels)\n",
        "        return self.df\n",
        "\n",
        "    # Export movies list to a CSV file\n",
        "    # Required: DataFrame from obj setted\n",
        "    # Return: None\n",
        "    def export_to_csv_file(self, df):\n",
        "        print(f'Exporting data... ')\n",
        "        file_name =  self.path + 'movies_list_' + str(self.bom.since_year) + '-' + str(self.bom.to_year) + '.csv'\n",
        "        df.to_csv(self.path + file_name, index = 0, columns = df.columns.values.tolist())\n",
        "        print(f'Data exported at {file_name} \\nProcess finalized!') "
      ]
    },
    {
      "cell_type": "markdown",
      "metadata": {},
      "source": [
        "## Extraction"
      ]
    },
    {
      "cell_type": "code",
      "execution_count": 33,
      "metadata": {
        "id": "XZ2GQhIStnqX"
      },
      "outputs": [],
      "source": [
        "ex = DataExtractor(2012,2020)"
      ]
    },
    {
      "cell_type": "code",
      "execution_count": null,
      "metadata": {
        "colab": {
          "base_uri": "https://localhost:8080/"
        },
        "id": "7MUOTvuG1E6b",
        "outputId": "f50d9db9-34b4-4700-e153-8fb5a08df0d0"
      },
      "outputs": [
        {
          "name": "stdout",
          "output_type": "stream",
          "text": [
            "Box Mojo Office. Initializing process\n",
            "Box Mojo Office. Extracting data... Year:2019\n",
            "Box Mojo Office. Data extracted!\n",
            "Filmaffinity. Trying to extract...0/152\n",
            "Filmaffinity. Trying to extract...1/152\n",
            "Filmaffinity. Trying to extract...2/152\n",
            "Filmaffinity. Trying to extract...3/152\n",
            "Filmaffinity. Trying to extract...4/152\n",
            "Filmaffinity. Trying to extract...5/152\n",
            "Filmaffinity. Trying to extract...6/152\n",
            "Filmaffinity. Trying to extract...7/152\n",
            "Filmaffinity. Trying to extract...8/152\n",
            "Filmaffinity. Trying to extract...9/152\n",
            "Filmaffinity. Trying to extract...10/152\n",
            "Filmaffinity. Trying to extract...11/152\n",
            "Filmaffinity. Trying to extract...12/152\n",
            "Filmaffinity. Trying to extract...13/152\n",
            "Filmaffinity. Trying to extract...14/152\n",
            "Filmaffinity. Trying to extract...15/152\n",
            "Filmaffinity. Trying to extract...16/152\n",
            "Filmaffinity. Trying to extract...17/152\n",
            "Filmaffinity. Trying to extract...18/152\n",
            "Filmaffinity. Trying to extract...19/152\n",
            "Filmaffinity. Trying to extract...20/152\n",
            "Filmaffinity. Trying to extract...21/152\n",
            "Filmaffinity. Trying to extract...22/152\n",
            "Filmaffinity. Trying to extract...23/152\n",
            "Filmaffinity. Trying to extract...24/152\n",
            "Filmaffinity. Trying to extract...25/152\n",
            "Filmaffinity. Trying to extract...26/152\n",
            "Filmaffinity. Trying to extract...27/152\n",
            "Filmaffinity. Trying to extract...28/152\n",
            "Filmaffinity. Trying to extract...29/152\n",
            "Filmaffinity. Trying to extract...30/152\n",
            "Filmaffinity. Trying to extract...31/152\n",
            "Filmaffinity. Trying to extract...32/152\n",
            "Filmaffinity. Trying to extract...33/152\n",
            "Filmaffinity. Trying to extract...34/152\n",
            "Filmaffinity. Trying to extract...35/152\n",
            "Filmaffinity. Trying to extract...36/152\n",
            "Filmaffinity. Trying to extract...37/152\n",
            "Filmaffinity. Trying to extract...38/152\n",
            "Filmaffinity. Trying to extract...39/152\n",
            "Filmaffinity. Trying to extract...40/152\n",
            "Filmaffinity. Trying to extract...41/152\n",
            "Filmaffinity. Trying to extract...42/152\n",
            "Filmaffinity. Trying to extract...43/152\n",
            "Filmaffinity. Trying to extract...44/152\n",
            "Filmaffinity. Trying to extract...45/152\n",
            "Filmaffinity. Trying to extract...46/152\n",
            "Filmaffinity. Trying to extract...47/152\n",
            "Filmaffinity. Trying to extract...48/152\n",
            "Filmaffinity. Trying to extract...49/152\n"
          ]
        }
      ],
      "source": [
        "df = ex.orchestrated_extaction()"
      ]
    },
    {
      "cell_type": "markdown",
      "metadata": {
        "id": "uS5WV5VrHg1q"
      },
      "source": [
        "# Cleaning"
      ]
    },
    {
      "cell_type": "code",
      "execution_count": null,
      "metadata": {
        "id": "mWFQ0zhkt77E"
      },
      "outputs": [],
      "source": [
        "df = df.dropna()"
      ]
    },
    {
      "cell_type": "code",
      "execution_count": null,
      "metadata": {
        "id": "0UfQLuKoxB9i"
      },
      "outputs": [],
      "source": [
        "df.info()"
      ]
    },
    {
      "cell_type": "markdown",
      "metadata": {
        "id": "gmd_6Sf5H1XK"
      },
      "source": [
        "## Cleaning unused cols"
      ]
    },
    {
      "cell_type": "code",
      "execution_count": null,
      "metadata": {
        "id": "oNfXyQ5TylT4"
      },
      "outputs": [],
      "source": [
        "df[\"Distributor\"].value_counts()"
      ]
    },
    {
      "cell_type": "code",
      "execution_count": null,
      "metadata": {
        "id": "g2Rdakpd8iVa"
      },
      "outputs": [],
      "source": [
        "df[\"Distributor\"].describe()"
      ]
    },
    {
      "cell_type": "code",
      "execution_count": null,
      "metadata": {
        "id": "1JSoUdJP8fNy"
      },
      "outputs": [],
      "source": [
        "df=df.drop([\"Distributor\"],axis=1)"
      ]
    },
    {
      "cell_type": "markdown",
      "metadata": {
        "id": "2oa7TlUf9Omx"
      },
      "source": [
        "## Getting dummies"
      ]
    },
    {
      "cell_type": "code",
      "execution_count": null,
      "metadata": {
        "id": "EHEcriFFF3Cr"
      },
      "outputs": [],
      "source": [
        "df[\"Genres\"]=df[\"Genres\"].str.replace(\"'\",\"\")\n",
        "df[\"Genres\"]=df[\"Genres\"].str.lower()"
      ]
    },
    {
      "cell_type": "code",
      "execution_count": null,
      "metadata": {
        "id": "HIyuGADIBdTv"
      },
      "outputs": [],
      "source": [
        "# Use this line IF the values in Column A are type of `string` instead of lists.\n",
        "df['Genres'] = df['Genres'].str.strip('[]').str.split('\\s*,\\s*')\n",
        "\n",
        "df = (\n",
        "    df['Genres'].explode()\n",
        "    .str.get_dummies().groupby(level=0).sum().add_prefix('genre_')\n",
        ")\n",
        "\n",
        "df = df.drop(columns=[\"Genres\"]).join(df)"
      ]
    },
    {
      "cell_type": "markdown",
      "metadata": {
        "id": "6lCJM9rZIAEZ"
      },
      "source": [
        "## Setting types"
      ]
    },
    {
      "cell_type": "code",
      "execution_count": null,
      "metadata": {
        "id": "lM-MpVsuHBJi"
      },
      "outputs": [],
      "source": [
        "df[\"Running time[min]\"] = df[\"Running time[min]\"].astype(int)"
      ]
    },
    {
      "cell_type": "markdown",
      "metadata": {
        "id": "gd2IRM9oIHUp"
      },
      "source": [
        "# Exporting to csv"
      ]
    },
    {
      "cell_type": "code",
      "execution_count": null,
      "metadata": {
        "id": "YgV1AFO0E86c"
      },
      "outputs": [],
      "source": [
        "df"
      ]
    },
    {
      "cell_type": "code",
      "execution_count": null,
      "metadata": {
        "id": "9yyBQdf2G7z7"
      },
      "outputs": [],
      "source": [
        "ex.export_to_csv_file(df)"
      ]
    }
  ],
  "metadata": {
    "colab": {
      "collapsed_sections": [
        "iHFfQXsNHYjT",
        "KnTgJjCzHWBS",
        "uS5WV5VrHg1q",
        "gmd_6Sf5H1XK",
        "gd2IRM9oIHUp"
      ],
      "name": "WebScrapingExtractor.ipynb",
      "provenance": []
    },
    "interpreter": {
      "hash": "6ab8ae6de0f5deaa77314a75e8bd221df2aeb85ede3a4c5a8b6884f760372982"
    },
    "kernelspec": {
      "display_name": "Python 3.8.11 ('cursoPhyton')",
      "language": "python",
      "name": "python3"
    },
    "language_info": {
      "codemirror_mode": {
        "name": "ipython",
        "version": 3
      },
      "file_extension": ".py",
      "mimetype": "text/x-python",
      "name": "python",
      "nbconvert_exporter": "python",
      "pygments_lexer": "ipython3",
      "version": "3.8.11"
    }
  },
  "nbformat": 4,
  "nbformat_minor": 0
}
