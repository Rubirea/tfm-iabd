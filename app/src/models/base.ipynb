{
  "cells": [
    {
      "cell_type": "markdown",
      "metadata": {
        "id": "MzKIl25w_Ad8"
      },
      "source": [
        "# \"Hype\" is all you need #"
      ]
    },
    {
      "cell_type": "markdown",
      "source": [
        "## Introduction"
      ],
      "metadata": {
        "id": "i0zQVZQk_KWM"
      }
    },
    {
      "cell_type": "markdown",
      "source": [
        "The motivation behind the project is to work as a team with the idea of joining everthing we've seen, in other words:\n",
        "\n",
        "Being able to design, research, develop and deploy a Data Science idea designing a Big Data Architecture from which to train a model with a conclusion in mind while being ethical and not breaking any EU laws"
      ],
      "metadata": {
        "id": "8S5_9281_7Ez"
      }
    },
    {
      "cell_type": "markdown",
      "source": [
        "### Description"
      ],
      "metadata": {
        "id": "USjXwBaT_wz7"
      }
    },
    {
      "cell_type": "markdown",
      "source": [
        "This is research into what defines the success of films, and whether success can be predicted (proportionally) based on the hype (expectation) generated around a film; to be able to be expandable with both series and anime, video games or any other type of multimedia content or not.\n",
        "\n",
        "It is intended, as possible definitions of the success of a film, to be able to predict:\n",
        "\n",
        "- The collection of a film based on its initial investment and how much good it will be received\n",
        "\n",
        "- The acceptance/acclamation of a film with respect to the initial \"hype\"\n",
        "\n",
        "- Predict the note on IMDB a week after release, and whoever says IMDB can say other platforms (Rotten Tomatoes, Metacritic)\n",
        "\n",
        "- Predict your success (previously defined) one week after your release\n",
        "\n",
        "\n",
        "For this, various data sources will be used, such as: Twitter, Reddit, YouTube, IMDB, and those that we can discover as the investigation progresses. One of the main and central components of the application is sentiment analysis, which would become the main focus of the prediction."
      ],
      "metadata": {
        "id": "pCJwQ-tM_62T"
      }
    },
    {
      "cell_type": "markdown",
      "source": [
        "### Objectives"
      ],
      "metadata": {
        "id": "2MyXGmCQ_yP8"
      }
    },
    {
      "cell_type": "markdown",
      "source": [
        ""
      ],
      "metadata": {
        "id": "3IqedD-8_6o1"
      }
    },
    {
      "cell_type": "markdown",
      "source": [
        "### Product"
      ],
      "metadata": {
        "id": "iya--2fs_0Ba"
      }
    },
    {
      "cell_type": "markdown",
      "source": [
        ""
      ],
      "metadata": {
        "id": "5EZ_OW0K_6bj"
      }
    },
    {
      "cell_type": "markdown",
      "source": [
        "### Assumptions"
      ],
      "metadata": {
        "id": "kYu4Gi_V_2DM"
      }
    },
    {
      "cell_type": "markdown",
      "source": [
        "#### Chosen Model"
      ],
      "metadata": {
        "id": "5y69aV9xFwMz"
      }
    },
    {
      "cell_type": "markdown",
      "source": [
        ""
      ],
      "metadata": {
        "id": "E5pWXLJ8_6Oc"
      }
    },
    {
      "cell_type": "markdown",
      "source": [
        "##### Why?"
      ],
      "metadata": {
        "id": "bJy3RLmRF0oa"
      }
    },
    {
      "cell_type": "markdown",
      "source": [
        ""
      ],
      "metadata": {
        "id": "lYppIwfPF06q"
      }
    },
    {
      "cell_type": "markdown",
      "source": [
        "##### How does it work?"
      ],
      "metadata": {
        "id": "dELGRxWbF3r1"
      }
    },
    {
      "cell_type": "markdown",
      "source": [
        ""
      ],
      "metadata": {
        "id": "968ai2J9F5kb"
      }
    },
    {
      "cell_type": "markdown",
      "source": [
        "##### Why not...?"
      ],
      "metadata": {
        "id": "RC_BdVCtF6OS"
      }
    },
    {
      "cell_type": "markdown",
      "source": [
        ""
      ],
      "metadata": {
        "id": "GCeEbNcCF8fZ"
      }
    },
    {
      "cell_type": "markdown",
      "source": [
        "## Environment"
      ],
      "metadata": {
        "id": "rQAUx45K_MWE"
      }
    },
    {
      "cell_type": "markdown",
      "source": [
        "### Imports"
      ],
      "metadata": {
        "id": "1V1txFPVDZ_j"
      }
    },
    {
      "cell_type": "code",
      "source": [
        "from google.colab import drive\n",
        "import os"
      ],
      "metadata": {
        "id": "ly2XM7ZYDdR0"
      },
      "execution_count": 30,
      "outputs": []
    },
    {
      "cell_type": "markdown",
      "source": [
        "### Load ENV Variables"
      ],
      "metadata": {
        "id": "IVUE5DYuACJz"
      }
    },
    {
      "cell_type": "code",
      "source": [
        "COLAB_MOUNT_PATH = \"/content/drive/\" #@param {type:\"string\"}\n",
        "\n",
        "COLAB_UNIT_NAME = \"MyDrive\" #@param {type:\"string\"}\n",
        "\n",
        "BASEPATH = \"Colab Notebooks\" #@param {type:\"string\"}"
      ],
      "metadata": {
        "id": "gMzIeEYuBGqC"
      },
      "execution_count": 39,
      "outputs": []
    },
    {
      "cell_type": "markdown",
      "source": [
        "### Load system elements"
      ],
      "metadata": {
        "id": "0KXjYpj6AE0D"
      }
    },
    {
      "cell_type": "markdown",
      "source": [
        "The argument `-q` is used as to not overflow the notebook with the installation progress"
      ],
      "metadata": {
        "id": "IvWsPjmsyfIK"
      }
    },
    {
      "cell_type": "code",
      "source": [
        "!pip install tensorflow -q"
      ],
      "metadata": {
        "id": "XsofrGH_Cyi7"
      },
      "execution_count": 6,
      "outputs": []
    },
    {
      "cell_type": "markdown",
      "source": [
        "### Mount the drive"
      ],
      "metadata": {
        "id": "Z-Ztkmat_udj"
      }
    },
    {
      "cell_type": "code",
      "source": [
        "drive.mount(COLAB_MOUNT_PATH)"
      ],
      "metadata": {
        "colab": {
          "base_uri": "https://localhost:8080/"
        },
        "id": "-H7jHBrmAMv8",
        "outputId": "3d382469-f2b7-4301-e3ad-a4d2afc93b79"
      },
      "execution_count": 40,
      "outputs": [
        {
          "output_type": "stream",
          "name": "stdout",
          "text": [
            "Drive already mounted at /content/drive/; to attempt to forcibly remount, call drive.mount(\"/content/drive/\", force_remount=True).\n"
          ]
        }
      ]
    },
    {
      "cell_type": "markdown",
      "source": [
        "### Move to the path"
      ],
      "metadata": {
        "id": "8royPCx5_85z"
      }
    },
    {
      "cell_type": "markdown",
      "source": [
        "Generate the directory's full path"
      ],
      "metadata": {
        "id": "B6uAoz7YDgdj"
      }
    },
    {
      "cell_type": "code",
      "source": [
        "working_path = os.path.join( COLAB_MOUNT_PATH, COLAB_UNIT_NAME, BASEPATH )\n",
        "print(f'The working directory has been detected as:', working_path)"
      ],
      "metadata": {
        "colab": {
          "base_uri": "https://localhost:8080/"
        },
        "id": "4E1X1bpoA90U",
        "outputId": "89fd9e6a-4cf9-42b6-9c4b-2380603e7acf"
      },
      "execution_count": 41,
      "outputs": [
        {
          "output_type": "stream",
          "name": "stdout",
          "text": [
            "The working directory has been detected as: /content/drive/MyDrive/Colab Notebooks/NLP\n"
          ]
        }
      ]
    },
    {
      "cell_type": "markdown",
      "source": [
        "Attempt to move to the directory"
      ],
      "metadata": {
        "id": "9X8xb85jDjv7"
      }
    },
    {
      "cell_type": "code",
      "source": [
        "try:\n",
        "  os.chdir( working_path )\n",
        "  print('Moved successfully to the desired directory')\n",
        "except Exception:\n",
        "  print('Coudln\\'t move to the desired directory')"
      ],
      "metadata": {
        "colab": {
          "base_uri": "https://localhost:8080/"
        },
        "id": "-89gwuBCDlYa",
        "outputId": "193936b5-6958-42a1-edc5-561bc8977008"
      },
      "execution_count": 42,
      "outputs": [
        {
          "output_type": "stream",
          "name": "stdout",
          "text": [
            "Moved successfully to the desired directory\n"
          ]
        }
      ]
    },
    {
      "cell_type": "markdown",
      "source": [
        "Now the current directory is"
      ],
      "metadata": {
        "id": "nJC36d_xDsv7"
      }
    },
    {
      "cell_type": "code",
      "source": [
        "%pwd"
      ],
      "metadata": {
        "colab": {
          "base_uri": "https://localhost:8080/",
          "height": 35
        },
        "id": "ogr_ygUzDvBL",
        "outputId": "110cfecf-b512-4feb-9a8e-7b6ec3f3e5d2"
      },
      "execution_count": 43,
      "outputs": [
        {
          "output_type": "execute_result",
          "data": {
            "text/plain": [
              "'/content/drive/MyDrive/Colab Notebooks/NLP'"
            ],
            "application/vnd.google.colaboratory.intrinsic+json": {
              "type": "string"
            }
          },
          "metadata": {},
          "execution_count": 43
        }
      ]
    },
    {
      "cell_type": "markdown",
      "source": [
        "## Initialization"
      ],
      "metadata": {
        "id": "izSzSLvc_Sl7"
      }
    },
    {
      "cell_type": "markdown",
      "source": [
        "At this point we need to instantiate all the data related to our model"
      ],
      "metadata": {
        "id": "LRA7jaZUNozx"
      }
    },
    {
      "cell_type": "markdown",
      "source": [
        "### Imports"
      ],
      "metadata": {
        "id": "3e8rbnooDXUT"
      }
    },
    {
      "cell_type": "code",
      "source": [
        "import pandas as pd\n",
        "import numpy as np\n",
        "from typing import List, Tuple"
      ],
      "metadata": {
        "id": "qNFHYiApD_Y6"
      },
      "execution_count": 45,
      "outputs": []
    },
    {
      "cell_type": "markdown",
      "source": [
        "### Load the dataset"
      ],
      "metadata": {
        "id": "AAyQnh5hDYeT"
      }
    },
    {
      "cell_type": "code",
      "source": [
        "dataframe = pd.read_csv('dataset.csv')"
      ],
      "metadata": {
        "id": "AXHzTOw_FAm1"
      },
      "execution_count": null,
      "outputs": []
    },
    {
      "cell_type": "markdown",
      "source": [
        "### Check that it's right"
      ],
      "metadata": {
        "id": "lXLlf-UPLP9x"
      }
    },
    {
      "cell_type": "markdown",
      "source": [
        "## EDA"
      ],
      "metadata": {
        "id": "kxbY-OqrLTWx"
      }
    },
    {
      "cell_type": "markdown",
      "source": [
        "### Constants"
      ],
      "metadata": {
        "id": "5qvBxmJpdqfm"
      }
    },
    {
      "cell_type": "markdown",
      "source": [
        "This should not be touched lightly, these are values you can modify by giving a value, they only serve as the default, and may affect to many cells"
      ],
      "metadata": {
        "id": "L_I1__AtlLHU"
      }
    },
    {
      "cell_type": "code",
      "source": [
        "FIGURE_WIDTH = 30 #@param {type:\"number\"}\n",
        "FIGURE_HEIGHT = 10 #@param {type:\"number\"}\n",
        "\n",
        "WHITEGRID = 'whitegrid' #@param {type:\"string\"}\n",
        "WHITE = 'white' #@param {type:\"string\"}\n",
        "COLOR_MAP = 'BuGn' #@param {type:\"string\"}\n",
        "\n",
        "SUBPLOT_ADJUSTMENT = {\n",
        "  'left'  : 0.1,\n",
        "  'bottom': 0.1,\n",
        "  'right' : 0.9,\n",
        "  'top'   : 0.9,\n",
        "  'wspace': 0.4,\n",
        "  'hspace': 0.4,\n",
        "}"
      ],
      "metadata": {
        "id": "ADHdde3BdsER"
      },
      "execution_count": 2,
      "outputs": []
    },
    {
      "cell_type": "markdown",
      "source": [
        "### Imports"
      ],
      "metadata": {
        "id": "32Ju_VeQdPn1"
      }
    },
    {
      "cell_type": "code",
      "source": [
        "import matplotlib.pyplot as plt\n",
        "import seaborn as sns\n",
        "from pandas.api.types import is_numeric_dtype, is_string_dtype"
      ],
      "metadata": {
        "id": "4hSZspC3dQo-"
      },
      "execution_count": null,
      "outputs": []
    },
    {
      "cell_type": "markdown",
      "source": [
        "### Helpers"
      ],
      "metadata": {
        "id": "h-24PGyXvRP7"
      }
    },
    {
      "cell_type": "code",
      "source": [
        "def set_plotting_style(\n",
        "  style: str = WHITE,\n",
        "  fig_width: float = FIGURE_WIDTH,\n",
        "  fig_height: float = FIGURE_HEIGHT,\n",
        ") -> None:\n",
        "  \"\"\"Configures the plotting style\"\"\"\n",
        "  sns.set_theme(style=style)\n",
        "  plt.figure(figsize=(fig_width, fig_height))"
      ],
      "metadata": {
        "id": "o19frArtid5W"
      },
      "execution_count": null,
      "outputs": []
    },
    {
      "cell_type": "code",
      "source": [
        "def get_df_with_cols(\n",
        "  dataframe = pd.DataFrame,\n",
        "  cols: Tuple[str] = None,\n",
        "  only_numeric: bool = False,\n",
        "  only_strings: bool = False,\n",
        ") -> pd.DataFrame:\n",
        "  \"\"\"Gets the dataframe with the given columns\"\"\"\n",
        "  # Backup the dataframe\n",
        "  df = dataframe.copy()\n",
        "\n",
        "  # If no columns are given, get every column\n",
        "  if not cols:\n",
        "    columns = tuple(df.columns)\n",
        "\n",
        "  def filter_by(col) -> bool:\n",
        "    \"\"\"Determines if a col should be stored\"\"\"\n",
        "    if only_numeric:\n",
        "      return is_numeric_dtype(col)\n",
        "    elif only_strings:\n",
        "      return is_string_dtype(col)\n",
        "\n",
        "    return True\n",
        "\n",
        "  columns = [ col for col in columns if filter_by(df[col]) ]\n",
        "  df = df[ columns ]\n",
        "\n",
        "  return df"
      ],
      "metadata": {
        "id": "xqEy4hkivOxC"
      },
      "execution_count": null,
      "outputs": []
    },
    {
      "cell_type": "markdown",
      "source": [
        "### Missing Values"
      ],
      "metadata": {
        "id": "XV1nPnO9LXpx"
      }
    },
    {
      "cell_type": "markdown",
      "source": [
        "It will return the percentage **per** columns, which will work wonders for an overall view"
      ],
      "metadata": {
        "id": "wnPa7GydxkED"
      }
    },
    {
      "cell_type": "code",
      "source": [
        "def get_na_percentage(\n",
        "  dataframe: pd.DataFrame,\n",
        ") -> pd.DataFrame:\n",
        "  \"\"\"Returns the percentage of missing values in a dataframe per column\"\"\"\n",
        "  return dataframe.isna() * 100 / len(dataframe)\n",
        "\n",
        "get_na_percentage(dataframe)"
      ],
      "metadata": {
        "id": "hrccPyGwwXv7"
      },
      "execution_count": null,
      "outputs": []
    },
    {
      "cell_type": "markdown",
      "source": [
        "While now we may want to retrieve the percentage on the whole dataset"
      ],
      "metadata": {
        "id": "s9_U0NLTxq4p"
      }
    },
    {
      "cell_type": "code",
      "source": [
        "def get_total_na_percentage(\n",
        "  dataframe: pd.DataFrame,\n",
        ") -> float:\n",
        "  \"\"\"Returns the total percentage of missing values in a dataframe\"\"\"\n",
        "  return dataframe.isna().sum() * 100 / len(dataframe)\n",
        "\n",
        "get_total_na_percentage(dataframe)"
      ],
      "metadata": {
        "id": "Jdg5WrePyIQi"
      },
      "execution_count": null,
      "outputs": []
    },
    {
      "cell_type": "markdown",
      "source": [
        "### Correlation"
      ],
      "metadata": {
        "id": "kKPxfQ76LY0h"
      }
    },
    {
      "cell_type": "markdown",
      "source": [
        "The correlation helps us identify which values contribute and further explain the dependant variable"
      ],
      "metadata": {
        "id": "0IHNDAIpu2pD"
      }
    },
    {
      "cell_type": "markdown",
      "source": [
        ""
      ],
      "metadata": {
        "id": "1qOYsF5-xQRa"
      }
    },
    {
      "cell_type": "code",
      "source": [
        "def get_correlation(\n",
        "  dataframe=pd.DataFrame,\n",
        ") -> pd.DataFrame:\n",
        "  \"\"\"Gets the DataFrame correlation\"\"\"\n",
        "  return get_df_with_cols(\n",
        "    dataframe=dataframe,\n",
        "    only_numeric=True\n",
        "  ).corr()\n",
        "\n",
        "correlation = get_correlation(dataframe)"
      ],
      "metadata": {
        "id": "XfWmO1TNvdMT"
      },
      "execution_count": null,
      "outputs": []
    },
    {
      "cell_type": "markdown",
      "source": [
        "To easily identify the correlation we create a method to plot it"
      ],
      "metadata": {
        "id": "8yMBMCRUxLUM"
      }
    },
    {
      "cell_type": "code",
      "source": [
        "def plot_correlation(\n",
        "  dataframe=pd.DataFrame,\n",
        "  cmap: str = COLOR_MAP,\n",
        ") -> None:\n",
        "  \"\"\"Plots the correlation\"\"\"\n",
        "  set_plotting_style(fig_width=15)\n",
        "\n",
        "  sns.heatmap(\n",
        "    correlation,\n",
        "    fmt='g',\n",
        "    annot=True,\n",
        "    cmap=COLOR_MAP,\n",
        "  )"
      ],
      "metadata": {
        "id": "9fxf3PG0u2Hb"
      },
      "execution_count": null,
      "outputs": []
    },
    {
      "cell_type": "markdown",
      "source": [
        "### Data distribution"
      ],
      "metadata": {
        "id": "FDvGJyeJLZ4R"
      }
    },
    {
      "cell_type": "markdown",
      "source": [
        "It's important to see if the data is balanced or there may be some adjustments to make. We want our model as unbiased as possible with a decent amount of variance"
      ],
      "metadata": {
        "id": "BSZ7KQ57R0Fo"
      }
    },
    {
      "cell_type": "markdown",
      "source": [
        "#### Helpers"
      ],
      "metadata": {
        "id": "8vqfrnWNSA8f"
      }
    },
    {
      "cell_type": "markdown",
      "source": [
        "Prints all the given columns as the provided plotting method"
      ],
      "metadata": {
        "id": "sguK8Zz8fqw-"
      }
    },
    {
      "cell_type": "code",
      "source": [
        "def print_cols_as(\n",
        "  df: pd.DataFrame,\n",
        "  method: function,\n",
        "  cols: Tuple[str] = None,\n",
        "  number_of_cols: int = 4,\n",
        "  style: str = WHITE,\n",
        "  params: dict = {},\n",
        "  fig_width: float = FIGURE_WIDTH,\n",
        "  fig_height: float = FIGURE_HEIGHT,\n",
        "  subplots_adjustment: dict = SUBPLOT_ADJUSTMENT,\n",
        ") -> None:\n",
        "  \"\"\"Prints all the columns as the given method\"\"\"\n",
        "  df = get_df_with_cols( dataframe, cols, only_numeric=True )\n",
        "\n",
        "  # Configure the plotting style\n",
        "  set_plotting_style( style, fig_width, fig_height )\n",
        "\n",
        "  # Configure the subplots\n",
        "  columns = df.columns\n",
        "  n_cols = len(columns)\n",
        "  fig, axes = plt.subplots(int(n_cols / number_of_cols) + 1, number_of_cols, *params)\n",
        "\n",
        "  # set the spacing between subplots\n",
        "  plt.subplots_adjust(*subplots_adjustment)\n",
        "\n",
        "  for index, col in enumerate(columns):\n",
        "    method(ax=axes[int(index / number_of_cols), int(index % number_of_cols)], x=df[col])\n",
        "\n",
        "  method(data=df, *params)"
      ],
      "metadata": {
        "id": "hNe3DkTOSCJY"
      },
      "execution_count": null,
      "outputs": []
    },
    {
      "cell_type": "markdown",
      "source": [
        "Prints in one method all the given columns"
      ],
      "metadata": {
        "id": "7Djk36W0fw6-"
      }
    },
    {
      "cell_type": "code",
      "source": [
        "def plot_overall(\n",
        "  dataframe: pd.DataFrame,\n",
        "  method: function,\n",
        "  cols: Tuple[str] = None,\n",
        "  style: str = WHITE,\n",
        "  params: dict = {},\n",
        "  fig_width: float = FIGURE_WIDTH,\n",
        "  fig_height: float = FIGURE_HEIGHT,\n",
        ") -> None:\n",
        "  \"\"\"Plots the dataset\"\"\"\n",
        "  df = get_df_with_cols( dataframe, cols, only_numeric=True )\n",
        "\n",
        "  # Configure the plotting style\n",
        "  set_plotting_style( style, fig_width, fig_height )\n",
        "\n",
        "  # Actually plot\n",
        "  method(data=df, *params)"
      ],
      "metadata": {
        "id": "ZM3yBKwhf38m"
      },
      "execution_count": null,
      "outputs": []
    },
    {
      "cell_type": "markdown",
      "source": [
        "#### Boxplot"
      ],
      "metadata": {
        "id": "5hLmOcMwM9jZ"
      }
    },
    {
      "cell_type": "markdown",
      "source": [
        "The total Data Distribution"
      ],
      "metadata": {
        "id": "6EugL7t_dWVv"
      }
    },
    {
      "cell_type": "code",
      "source": [
        "def boxplot_distribution(\n",
        "  dataframe: pd.DataFrame,\n",
        "  cols: Tuple[str] = None,\n",
        "  number_of_cols: int = 4,\n",
        ") -> None:\n",
        "  \"\"\"Boxplots the dataset's distribution\"\"\"\n",
        "  print_cols_as(\n",
        "    dataframe=dataframe,\n",
        "    cols=cols,\n",
        "    number_of_cols=number_of_cols,\n",
        "    style=WHITEGRID,\n",
        "    method=sns.boxplot,\n",
        "    params={\n",
        "      'orient':\"h\",\n",
        "      'palette':\"Set2\",\n",
        "    }\n",
        "  )\n",
        "\n",
        "boxplot_distribution( dataframe )"
      ],
      "metadata": {
        "id": "Edin1TWSRzOw"
      },
      "execution_count": null,
      "outputs": []
    },
    {
      "cell_type": "markdown",
      "source": [
        "The overall view"
      ],
      "metadata": {
        "id": "I6O3LtwOdY5N"
      }
    },
    {
      "cell_type": "code",
      "source": [
        "def boxplot_overall(\n",
        "  dataframe: pd.DataFrame,\n",
        "  cols: Tuple[str] = None,\n",
        ") -> None:\n",
        "  \"\"\"Boxplots the dataset\"\"\"\n",
        "  plot_overall(\n",
        "    dataframe=dataframe,\n",
        "    cols=cols,\n",
        "    style=WHITEGRID,\n",
        "    method=sns.boxplot,\n",
        "    params={\n",
        "      'orient':\"v\",\n",
        "      'palette':\"Set2\",\n",
        "    }\n",
        "  )\n",
        "\n",
        "boxplot_overall( dataframe )"
      ],
      "metadata": {
        "id": "PiG2VVQ-dbp2"
      },
      "execution_count": null,
      "outputs": []
    },
    {
      "cell_type": "markdown",
      "source": [
        "#### Histplot"
      ],
      "metadata": {
        "id": "s1zHGm0oM-9R"
      }
    },
    {
      "cell_type": "markdown",
      "source": [
        "The total Data Distribution"
      ],
      "metadata": {
        "id": "ebOcJM-Hkuit"
      }
    },
    {
      "cell_type": "code",
      "source": [
        "def histplot_distribution(\n",
        "  dataframe: pd.DataFrame,\n",
        "  cols: Tuple[str] = None,\n",
        "  number_of_cols: int = 4,\n",
        ") -> None:\n",
        "  \"\"\"Histplots the dataset's distribution\"\"\"\n",
        "  print_cols_as(\n",
        "    dataframe=dataframe,\n",
        "    cols=cols,\n",
        "    number_of_cols=number_of_cols,\n",
        "    style=WHITEGRID,\n",
        "    method=sns.histplot,\n",
        "  )\n",
        "\n",
        "boxplot_distribution( dataframe )"
      ],
      "metadata": {
        "id": "D0-d53pBRzox"
      },
      "execution_count": null,
      "outputs": []
    },
    {
      "cell_type": "markdown",
      "source": [
        "The overall view"
      ],
      "metadata": {
        "id": "0S4w5hGNkcSw"
      }
    },
    {
      "cell_type": "code",
      "source": [
        "def histplot_overall(\n",
        "  dataframe: pd.DataFrame,\n",
        "  cols: Tuple[str] = None,\n",
        ") -> None:\n",
        "  \"\"\"Histplots the dataset\"\"\"\n",
        "  plot_overall(\n",
        "    dataframe=dataframe,\n",
        "    cols=cols,\n",
        "    style=WHITEGRID,\n",
        "    method=sns.histplot,\n",
        "  )\n",
        "\n",
        "histplot_overall( dataframe )"
      ],
      "metadata": {
        "id": "VwNUrCe-kd08"
      },
      "execution_count": null,
      "outputs": []
    },
    {
      "cell_type": "markdown",
      "source": [
        "## Preprocessing"
      ],
      "metadata": {
        "id": "VkheYJU1LziC"
      }
    },
    {
      "cell_type": "markdown",
      "source": [
        "### Backup"
      ],
      "metadata": {
        "id": "MhX_qWmOODPb"
      }
    },
    {
      "cell_type": "markdown",
      "source": [
        "Create a copy just in case we need to reload the dataframe again"
      ],
      "metadata": {
        "id": "RMzcNeGvOEtB"
      }
    },
    {
      "cell_type": "code",
      "source": [
        "df = dataframe.copy()"
      ],
      "metadata": {
        "id": "fwO8gs7sOHYC"
      },
      "execution_count": null,
      "outputs": []
    },
    {
      "cell_type": "markdown",
      "source": [
        "### Imports"
      ],
      "metadata": {
        "id": "SOCe1bs3NdWw"
      }
    },
    {
      "cell_type": "code",
      "source": [
        "from sklearn.impute import SimpleImputer"
      ],
      "metadata": {
        "id": "p-d9C5IENeaj"
      },
      "execution_count": 51,
      "outputs": []
    },
    {
      "cell_type": "markdown",
      "source": [
        "### Clean the data"
      ],
      "metadata": {
        "id": "CDgppxJoL4nZ"
      }
    },
    {
      "cell_type": "markdown",
      "source": [
        "Fill, remove, and drop all the columns and values that we may need"
      ],
      "metadata": {
        "id": "N77TYpl3NY0w"
      }
    },
    {
      "cell_type": "markdown",
      "source": [
        "### Map the data"
      ],
      "metadata": {
        "id": "pAhGP8vrL52B"
      }
    },
    {
      "cell_type": "markdown",
      "source": [
        "#### Col"
      ],
      "metadata": {
        "id": "vEkkagQ7NNyc"
      }
    },
    {
      "cell_type": "markdown",
      "source": [
        "We need to convert the data from the column \"col\" to \"\" because..."
      ],
      "metadata": {
        "id": "IDpYewWXNPc5"
      }
    },
    {
      "cell_type": "code",
      "source": [
        ""
      ],
      "metadata": {
        "id": "oV9SYdBuNNl9"
      },
      "execution_count": null,
      "outputs": []
    },
    {
      "cell_type": "markdown",
      "source": [
        "### Regularization"
      ],
      "metadata": {
        "id": "k-mFt7S5L0tp"
      }
    },
    {
      "cell_type": "code",
      "source": [
        ""
      ],
      "metadata": {
        "id": "27Jciox1NNMa"
      },
      "execution_count": null,
      "outputs": []
    },
    {
      "cell_type": "markdown",
      "source": [
        "### Normalization"
      ],
      "metadata": {
        "id": "8jhm2szGL2dA"
      }
    },
    {
      "cell_type": "markdown",
      "source": [
        "We apply the MinMax Normalization, because..."
      ],
      "metadata": {
        "id": "okPf5xyiNE1R"
      }
    },
    {
      "cell_type": "code",
      "source": [
        "def normalize(dataframe: pd.DataFrame) -> pd.DataFrame:\n",
        "  \"\"\"Normalizes a DataFrame\"\"\"\n",
        "  df = dataframe.copy()\n",
        "\n",
        "  return df\n",
        "\n",
        "df = normalize(df)"
      ],
      "metadata": {
        "id": "7oDoOkhjNLcr"
      },
      "execution_count": null,
      "outputs": []
    },
    {
      "cell_type": "markdown",
      "source": [
        "## Modelling"
      ],
      "metadata": {
        "id": "FsasaOB__iUd"
      }
    },
    {
      "cell_type": "markdown",
      "source": [
        "Now that we have some quality data, it's time to start modelling"
      ],
      "metadata": {
        "id": "kE1z3OD8LyMZ"
      }
    },
    {
      "cell_type": "markdown",
      "source": [
        "### Imports"
      ],
      "metadata": {
        "id": "2U6V0gnusQjz"
      }
    },
    {
      "cell_type": "code",
      "source": [
        "import numpy as np\n",
        "from sklearn.model_selection import train_test_split"
      ],
      "metadata": {
        "id": "wLmTw2NnsR4r"
      },
      "execution_count": 3,
      "outputs": []
    },
    {
      "cell_type": "markdown",
      "source": [
        "### Constants"
      ],
      "metadata": {
        "id": "6EO3ORTdsvu7"
      }
    },
    {
      "cell_type": "code",
      "source": [
        "TEST_SIZE = .15 #@param {'type': 'number'}\n",
        "\n",
        "VALIDATION_SIZE = .4 #@param {'type': 'number'}\n",
        "\n",
        "SEED = 42 #@param {'type': 'integer'}"
      ],
      "metadata": {
        "id": "2YEuWYy5sw1N"
      },
      "execution_count": null,
      "outputs": []
    },
    {
      "cell_type": "markdown",
      "source": [
        "### Set the seed"
      ],
      "metadata": {
        "id": "7wAd91DgMauB"
      }
    },
    {
      "cell_type": "markdown",
      "source": [
        "Only for training, evaluation and researching purposes. It should NOT be deployed to production with a fixed seed.\n",
        "\n",
        "It, greatly, helps identify any sort of problem since it should always give the same outcome."
      ],
      "metadata": {
        "id": "B8ZtJ6FrMcC6"
      }
    },
    {
      "cell_type": "code",
      "source": [
        "np.random.seed(SEED) # The answer to all the questions in the universe"
      ],
      "metadata": {
        "id": "ty2vkfgFMhRB"
      },
      "execution_count": 48,
      "outputs": []
    },
    {
      "cell_type": "markdown",
      "source": [
        "### Value assignment"
      ],
      "metadata": {
        "id": "mMadcR9aLiEx"
      }
    },
    {
      "cell_type": "markdown",
      "source": [
        "It is time to identify the label and separate the columns"
      ],
      "metadata": {
        "id": "_-XWu5M0ME45"
      }
    },
    {
      "cell_type": "code",
      "source": [
        "target = 'label'\n",
        "columns = [ col for col in df.columns if col is not target ]"
      ],
      "metadata": {
        "id": "U83z9DVBMGOa"
      },
      "execution_count": null,
      "outputs": []
    },
    {
      "cell_type": "markdown",
      "source": [
        "And we assign **X** and **y**"
      ],
      "metadata": {
        "id": "7r3QlOe0MBTR"
      }
    },
    {
      "cell_type": "code",
      "source": [
        "X = df[ columns ]\n",
        "y = df[ target ]"
      ],
      "metadata": {
        "id": "f6Wz1jUULw_5"
      },
      "execution_count": null,
      "outputs": []
    },
    {
      "cell_type": "markdown",
      "source": [
        "### Validation split"
      ],
      "metadata": {
        "id": "Xa_CenOiLj-J"
      }
    },
    {
      "cell_type": "code",
      "source": [
        "X_train, X_test, y_train, y_test = train_test_split(X, y, test_size=TEST_SIZE, random_state=SEED)\n",
        "X_test, X_validation, y_test, y_validation = train_test_split(X_test, y_test, test_size=TEST_SIZE, random_state=SEED)"
      ],
      "metadata": {
        "id": "0VcJYylPLwgx"
      },
      "execution_count": null,
      "outputs": []
    },
    {
      "cell_type": "markdown",
      "source": [
        "### Model Preprocessing"
      ],
      "metadata": {
        "id": "lQoW7fEzLm0Z"
      }
    },
    {
      "cell_type": "code",
      "source": [
        ""
      ],
      "metadata": {
        "id": "YZ-HpGqPLwSi"
      },
      "execution_count": null,
      "outputs": []
    },
    {
      "cell_type": "markdown",
      "source": [
        "### Model Building"
      ],
      "metadata": {
        "id": "ukFnzmPzLqkJ"
      }
    },
    {
      "cell_type": "code",
      "source": [
        "def build_model():\n",
        "  \"\"\"Builds the model\"\"\"\n",
        "  model = None\n",
        "\n",
        "  return model\n",
        "\n",
        "model = build_model()"
      ],
      "metadata": {
        "id": "_QNZitSKMoMo"
      },
      "execution_count": 50,
      "outputs": []
    },
    {
      "cell_type": "markdown",
      "source": [
        "### Training"
      ],
      "metadata": {
        "id": "y9UKnE_WLshA"
      }
    },
    {
      "cell_type": "code",
      "source": [
        "def train_model(model):\n",
        "  \"\"\"Trains the model\"\"\"\n",
        "  pass\n",
        "\n",
        "# train_model(model)"
      ],
      "metadata": {
        "id": "q1qwsFdvMv_3"
      },
      "execution_count": null,
      "outputs": []
    },
    {
      "cell_type": "markdown",
      "source": [
        "### Storage"
      ],
      "metadata": {
        "id": "SaE2T5BGtWha"
      }
    },
    {
      "cell_type": "markdown",
      "source": [
        "It is important to have a model ready to use after it's been trained, instead of going through the whole process of cleaning the data, and retraining it each time we may want to use it."
      ],
      "metadata": {
        "id": "90i2kPCttgtK"
      }
    },
    {
      "cell_type": "markdown",
      "source": [
        "#### Save"
      ],
      "metadata": {
        "id": "529y-ozXtaKk"
      }
    },
    {
      "cell_type": "code",
      "source": [
        "def save_model(model) -> bool:\n",
        "  \"\"\"Saves the model\"\"\"\n",
        "  pass\n",
        "\n",
        "model_was_saved = save_model(model)"
      ],
      "metadata": {
        "id": "Rl3-_5aLtsB7"
      },
      "execution_count": null,
      "outputs": []
    },
    {
      "cell_type": "markdown",
      "source": [
        "### Load"
      ],
      "metadata": {
        "id": "qGGD_z36tcbc"
      }
    },
    {
      "cell_type": "code",
      "source": [
        "def load_model():\n",
        "  model = None\n",
        "\n",
        "  return model\n",
        "\n",
        "# model = load_model()\n",
        "loaded_model = load_model()"
      ],
      "metadata": {
        "id": "OKZPtPmFt3xT"
      },
      "execution_count": null,
      "outputs": []
    },
    {
      "cell_type": "markdown",
      "source": [
        "## Evaluation"
      ],
      "metadata": {
        "id": "A7Fw--5r_joL"
      }
    },
    {
      "cell_type": "markdown",
      "source": [
        "### Basic metric"
      ],
      "metadata": {
        "id": "SO_L4jadoHI0"
      }
    },
    {
      "cell_type": "code",
      "source": [
        "def evalute(model):\n",
        "  \"\"\"Evaluates the model\"\"\"\n",
        "  pass\n",
        "\n",
        "score = evalute(model)"
      ],
      "metadata": {
        "id": "cm12psTyoIkT"
      },
      "execution_count": null,
      "outputs": []
    },
    {
      "cell_type": "markdown",
      "source": [
        "### In-detail"
      ],
      "metadata": {
        "id": "zvZ8eqCVoRMN"
      }
    },
    {
      "cell_type": "code",
      "source": [
        ""
      ],
      "metadata": {
        "id": "QR5qXBP0oS5b"
      },
      "execution_count": null,
      "outputs": []
    },
    {
      "cell_type": "markdown",
      "source": [
        "### Explanation"
      ],
      "metadata": {
        "id": "jAoW7rUYoTIr"
      }
    },
    {
      "cell_type": "markdown",
      "source": [
        "This is where any necessary comprobation about the results and it's hypothesis will be, after it's already trained and evaluated"
      ],
      "metadata": {
        "id": "5UoobaQNuCV6"
      }
    },
    {
      "cell_type": "markdown",
      "source": [
        "## Data Analysis"
      ],
      "metadata": {
        "id": "KhofBKHX_nIM"
      }
    },
    {
      "cell_type": "code",
      "source": [
        ""
      ],
      "metadata": {
        "id": "293T4l1AuP7L"
      },
      "execution_count": null,
      "outputs": []
    },
    {
      "cell_type": "markdown",
      "source": [
        "## Data Mining"
      ],
      "metadata": {
        "id": "6bg86l6g_lOT"
      }
    },
    {
      "cell_type": "code",
      "execution_count": 43,
      "metadata": {
        "id": "dPTW7nVA_Ad9"
      },
      "outputs": [],
      "source": [
        ""
      ]
    }
  ],
  "metadata": {
    "language_info": {
      "name": "python"
    },
    "orig_nbformat": 4,
    "colab": {
      "name": "model.ipynb",
      "provenance": [],
      "collapsed_sections": [],
      "toc_visible": true
    },
    "kernelspec": {
      "name": "python3",
      "display_name": "Python 3"
    }
  },
  "nbformat": 4,
  "nbformat_minor": 0
}